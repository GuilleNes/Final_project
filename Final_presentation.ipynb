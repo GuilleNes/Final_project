version https://git-lfs.github.com/spec/v1
oid sha256:fafa5926353222e54360f475e0f60367d8aa7e64068d46e9efafa839cc17d4f4
size 10999862
